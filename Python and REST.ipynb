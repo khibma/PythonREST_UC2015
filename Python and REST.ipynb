{
 "cells": [
  {
   "cell_type": "markdown",
   "metadata": {},
   "source": [
    "## Imports"
   ]
  },
  {
   "cell_type": "code",
   "execution_count": null,
   "metadata": {
    "collapsed": true
   },
   "outputs": [],
   "source": [
    "# json module makes getting and working with JSON response easier\n",
    "import json\n",
    "import os"
   ]
  },
  {
   "cell_type": "code",
   "execution_count": null,
   "metadata": {
    "collapsed": true
   },
   "outputs": [],
   "source": [
    "# Try to make our code both py2 and py3 compatible\n",
    "# py3\n",
    "try:  \n",
    "    import http.client as client\n",
    "    import urllib.parse as parse\n",
    "    from urllib.request import urlopen as urlopen\n",
    "    from urllib.request import Request as request\n",
    "    from urllib.parse import urlencode as encode\n",
    "# py2\n",
    "except ImportError:  \n",
    "    import httplib as client\n",
    "    from urllib2 import urlparse as parse\n",
    "    from urllib2 import urlopen as urlopen\n",
    "    from urllib2 import Request as request\n",
    "    from urllib import urlencode as encode"
   ]
  },
  {
   "cell_type": "markdown",
   "metadata": {},
   "source": [
    "## Simple request"
   ]
  },
  {
   "cell_type": "code",
   "execution_count": null,
   "metadata": {
    "collapsed": true
   },
   "outputs": [],
   "source": [
    "### make a single generic request and look at the response\n",
    "URL = \"http://sampleserver6.arcgisonline.com/arcgis/rest/services/PhoneIncidents/FeatureServer/0/query\"\n",
    "query = \"?where=1%3D1&objectIds=&time=&geometry=&geometryType=esriGeometryEnvelope&inSR=&spatialRel=esriSpatialRelIntersects&relationParam=&outFields=&returnGeometry=true&maxAllowableOffset=&geometryPrecision=&outSR=&gdbVersion=&returnDistinctValues=false&returnIdsOnly=false&returnCountOnly=false&orderByFields=&groupByFieldsForStatistics=&outStatistics=&returnZ=false&returnM=false&multipatchOption=&f=json\""
   ]
  },
  {
   "cell_type": "code",
   "execution_count": null,
   "metadata": {
    "collapsed": false
   },
   "outputs": [],
   "source": [
    "#Build request\n",
    "r = request(URL + query)\n",
    "#Open the URL\n",
    "jsonResponse = urlopen(r)\n",
    "#Load the JSON response\n",
    "jsonOuput = json.loads(jsonResponse.read().decode('UTF-8'))\n",
    "print(jsonOuput)"
   ]
  },
  {
   "cell_type": "code",
   "execution_count": null,
   "metadata": {
    "collapsed": true
   },
   "outputs": [],
   "source": [
    "#why JSON?\n",
    "print(\"read type: {0}\".format(type(jsonResponse.read())))\n",
    "print(\"json type: {0}\".format(type(jsonOuput)))"
   ]
  },
  {
   "cell_type": "code",
   "execution_count": null,
   "metadata": {
    "collapsed": true
   },
   "outputs": [],
   "source": [
    "### display the response, do a LEN on the array to count # of features\n",
    "print (jsonOuput)\n",
    "#How many features?\n",
    "len(jsonOuput['features'])"
   ]
  },
  {
   "cell_type": "code",
   "execution_count": null,
   "metadata": {
    "collapsed": true
   },
   "outputs": [],
   "source": [
    "### Build a helper function so we arent repeating code\n",
    "def sendReq(URL, query_dict=None, headers=None):\n",
    "    # Takes a URL and optional dict/headers and sends the request; returns the JSON    \n",
    "\n",
    "    if query_dict:  #POST\n",
    "        query_string = encode(query_dict).encode('UTF-8')\n",
    "    else:  #GET\n",
    "        query_string = encode('').encode('UTF-8')\n",
    "\n",
    "    if headers:\n",
    "        req = request(URL)\n",
    "        for key, value in headers.iteritems():\n",
    "            req.add_header(key, value)\n",
    "    else:\n",
    "        req = URL\n",
    "\n",
    "    jsonResponse = urlopen(req, query_string)\n",
    "    jsonOuput = json.loads(jsonResponse.read().decode('utf-8'))\n",
    "\n",
    "    return jsonOuput"
   ]
  },
  {
   "cell_type": "code",
   "execution_count": null,
   "metadata": {
    "collapsed": true
   },
   "outputs": [],
   "source": [
    "### Use helper function\n",
    "URL = \"http://sampleserver6.arcgisonline.com/arcgis/rest/services/PhoneIncidents/FeatureServer/0/query\"\n",
    "query = {'where':'1=1',\n",
    "         'returnGeometry':'true',\n",
    "         'returnIdsOnly': 'false',\n",
    "         'f':'json',\n",
    "         'token': None         \n",
    "         }\n",
    "response = sendReq(URL, query)\n",
    "print (response)\n",
    "if \"features\" in response:\n",
    "    print (\"There are {0} features in the response\".format(len(response['features'])))\n",
    "else:\n",
    "    print (\"No features found, or error returned\")"
   ]
  },
  {
   "cell_type": "markdown",
   "metadata": {},
   "source": [
    "##Requests with arcgis.com feature services"
   ]
  },
  {
   "cell_type": "code",
   "execution_count": null,
   "metadata": {
    "collapsed": true
   },
   "outputs": [],
   "source": [
    "chiptoleURL = \"http://services5.arcgis.com/fef1QOfOwB7ly9yl/arcgis/rest/services/ChiptolePlaces/FeatureServer/0\""
   ]
  },
  {
   "cell_type": "code",
   "execution_count": null,
   "metadata": {
    "collapsed": false
   },
   "outputs": [],
   "source": [
    "#Get the count from the end point\n",
    "FSquery = {'where':'1=1',\n",
    "         'returnCountOnly': 'true',\n",
    "         'f':'json'\n",
    "         }\n",
    "queryURL = chiptoleURL + '/query'\n",
    "response = sendReq(queryURL, FSquery)\n",
    "print(response)"
   ]
  },
  {
   "cell_type": "code",
   "execution_count": null,
   "metadata": {
    "collapsed": false
   },
   "outputs": [],
   "source": [
    "FSquery2 = {'where':'1=1',\n",
    "         'returnGeometry':'true',\n",
    "         'returnIdsOnly': 'false',\n",
    "         'f':'json'         \n",
    "         }\n",
    "queryURL2 = chiptoleURL + '/query'\n",
    "response = sendReq(queryURL2, FSquery2)\n",
    "print(len(response['features']))"
   ]
  },
  {
   "cell_type": "markdown",
   "metadata": {},
   "source": [
    "**Need to authenticate to change settings on the service**"
   ]
  },
  {
   "cell_type": "code",
   "execution_count": null,
   "metadata": {
    "collapsed": true
   },
   "outputs": [],
   "source": [
    "### TOKEN FUNCTION\n",
    "def getToken(username, password, url):\n",
    "\n",
    "    tokenURL = url + \"/sharing/generateToken\"\n",
    "    if \"https\" not in tokenURL:\n",
    "        tokenURL =tokenURL.replace('http', 'https')\n",
    "    referer = 'http://www.arcgis.com'\n",
    "\n",
    "    query_dict = {'username':   username,\n",
    "                  'password':   password,\n",
    "                  'expiration': str(600),\n",
    "                  'client' : 'referer',\n",
    "                  'referer' : referer,\n",
    "                  'f': 'json'} \n",
    "\n",
    "    token = sendReq(tokenURL, query_dict) \n",
    "\n",
    "    if \"token\" not in token:\n",
    "        print (token['messages'])\n",
    "    else:\n",
    "        # Return the token\n",
    "        return token['token']"
   ]
  },
  {
   "cell_type": "code",
   "execution_count": null,
   "metadata": {
    "collapsed": false
   },
   "outputs": [],
   "source": [
    "username = \"khibmaUC\"\n",
    "password = \"kevinUC15\"\n",
    "tokenURL = 'http://www.arcgis.com'\n",
    "token = getToken(username, password, tokenURL)"
   ]
  },
  {
   "cell_type": "code",
   "execution_count": null,
   "metadata": {
    "collapsed": false
   },
   "outputs": [],
   "source": [
    "print(token)"
   ]
  },
  {
   "cell_type": "code",
   "execution_count": null,
   "metadata": {
    "collapsed": false
   },
   "outputs": [],
   "source": [
    "updateQuery = {'updateDefinition':\n",
    "                {'maxRecordCount':5000},\n",
    "               'f':'json',\n",
    "               'async':'false',\n",
    "               'token':token               \n",
    "              }\n",
    "updateURL = \"http://services5.arcgis.com/fef1QOfOwB7ly9yl/arcgis/rest/admin/services/ChiptolePlaces/FeatureServer/0/updateDefinition\"\n",
    "responseUpdate = sendReq(updateURL, updateQuery)\n",
    "print(responseUpdate)\n"
   ]
  },
  {
   "cell_type": "code",
   "execution_count": null,
   "metadata": {
    "collapsed": false
   },
   "outputs": [],
   "source": [
    "response2 = sendReq(queryURL2, FSquery2)\n",
    "print(len(response2['features']))"
   ]
  },
  {
   "cell_type": "markdown",
   "metadata": {},
   "source": [
    "## Send query to hosted service\n",
    "## Use response in arcpy (tools)"
   ]
  },
  {
   "cell_type": "code",
   "execution_count": null,
   "metadata": {
    "collapsed": false
   },
   "outputs": [],
   "source": [
    "import arcpy\n",
    "bufferResult =  r\"c:\\temp\\ChipBuffer.shp\"\n",
    "arcpy.Exists(bufferResult)"
   ]
  },
  {
   "cell_type": "code",
   "execution_count": null,
   "metadata": {
    "collapsed": false
   },
   "outputs": [],
   "source": [
    "fs = arcpy.FeatureSet()\n",
    "fs.load(\"http://services5.arcgis.com/fef1QOfOwB7ly9yl/arcgis/rest/services/ChiptolePlaces/FeatureServer/0/query?where=1=1&f=json\")\n",
    "arcpy.Buffer_analysis(fs, r\"c:\\temp\\ChipBuffer.shp\", \"20 Miles\")\n",
    "arcpy.Exists(bufferResult)"
   ]
  },
  {
   "cell_type": "code",
   "execution_count": null,
   "metadata": {
    "collapsed": false
   },
   "outputs": [],
   "source": [
    "arcpy.GetCount_management(bufferResult)"
   ]
  },
  {
   "cell_type": "markdown",
   "metadata": {},
   "source": [
    "## Use REST response with other Python modules"
   ]
  },
  {
   "cell_type": "code",
   "execution_count": null,
   "metadata": {
    "collapsed": true
   },
   "outputs": [],
   "source": [
    "geoJson = \"http://services5.arcgis.com/fef1QOfOwB7ly9yl/arcgis/rest/services/ChiptolePlaces/FeatureServer/0/query?where=1=1&outFields=City,Sales&f=geojson\"\n",
    "noGeomGeoJson = \"http://services5.arcgis.com/fef1QOfOwB7ly9yl/arcgis/rest/services/ChiptolePlaces/FeatureServer/0/query?where=1=1&outFields=City,Sales&returnGeometry=false&f=geojson\"\n"
   ]
  },
  {
   "cell_type": "code",
   "execution_count": null,
   "metadata": {
    "collapsed": false
   },
   "outputs": [],
   "source": [
    "r = request(geoJson)\n",
    "jsonResponse = urlopen(r, ''.encode(\"UTF-8\"))\n",
    "chipJson = json.loads(jsonResponse.read().decode('utf-8'))\n",
    "from pandas.io.json import json_normalize\n",
    "df = json_normalize(chipJson['features'])\n",
    "print(df)"
   ]
  },
  {
   "cell_type": "code",
   "execution_count": null,
   "metadata": {
    "collapsed": false
   },
   "outputs": [],
   "source": [
    "r = request(noGeomGeoJson)\n",
    "jsonResponse = urlopen(r, ''.encode(\"UTF-8\"))\n",
    "chipJson = json.loads(jsonResponse.read().decode('UTF-8'))\n",
    "df = json_normalize(chipJson['features'])\n",
    "print(df)"
   ]
  },
  {
   "cell_type": "code",
   "execution_count": null,
   "metadata": {
    "collapsed": false
   },
   "outputs": [],
   "source": [
    "#list columns\n",
    "list(df.columns.values)"
   ]
  },
  {
   "cell_type": "code",
   "execution_count": null,
   "metadata": {
    "collapsed": false
   },
   "outputs": [],
   "source": [
    "#mean for sales\n",
    "print(df.mean())"
   ]
  },
  {
   "cell_type": "code",
   "execution_count": null,
   "metadata": {
    "collapsed": false
   },
   "outputs": [],
   "source": [
    "#list stores by highest sales\n",
    "print(df.sort(['properties.Sales'], ascending=[False]))"
   ]
  },
  {
   "cell_type": "code",
   "execution_count": null,
   "metadata": {
    "collapsed": false
   },
   "outputs": [],
   "source": [
    "#list bottom 5 stores:\n",
    "print(df.sort(['properties.Sales'], ascending=True).head(5))"
   ]
  },
  {
   "cell_type": "code",
   "execution_count": null,
   "metadata": {
    "collapsed": false
   },
   "outputs": [],
   "source": [
    "#How much the bottom 5 stores brought in:\n",
    "print(sum(df['properties.Sales'].order(ascending=True).head(5)))\n",
    "#35754.281190542679"
   ]
  },
  {
   "cell_type": "code",
   "execution_count": null,
   "metadata": {
    "collapsed": false
   },
   "outputs": [],
   "source": [
    "#top 5 california cities\n",
    "print(df[df['properties.City'].str.contains('CA')].sort(['properties.Sales'], ascending=False).head(5))"
   ]
  },
  {
   "cell_type": "code",
   "execution_count": null,
   "metadata": {
    "collapsed": true
   },
   "outputs": [],
   "source": []
  }
 ],
 "metadata": {
  "kernelspec": {
   "display_name": "Python 3",
   "language": "python",
   "name": "python3"
  },
  "language_info": {
   "codemirror_mode": {
    "name": "ipython",
    "version": 3
   },
   "file_extension": ".py",
   "mimetype": "text/x-python",
   "name": "python",
   "nbconvert_exporter": "python",
   "pygments_lexer": "ipython3",
   "version": "3.4.1"
  }
 },
 "nbformat": 4,
 "nbformat_minor": 0
}
